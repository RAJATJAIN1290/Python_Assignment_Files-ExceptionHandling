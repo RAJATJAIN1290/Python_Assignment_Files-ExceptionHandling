{
 "cells": [
  {
   "cell_type": "markdown",
   "id": "c0982d4a",
   "metadata": {},
   "source": [
    "# Theory Question"
   ]
  },
  {
   "cell_type": "markdown",
   "id": "7462498b",
   "metadata": {},
   "source": [
    "### What is the difference between interpreted and compiled languages?\n",
    "\n",
    "Interpreted languages execute code line by line using an interpreter (e.g., Python), while compiled languages are transformed into machine code before execution using a compiler (e.g., C, C++)."
   ]
  },
  {
   "cell_type": "markdown",
   "id": "97263404",
   "metadata": {},
   "source": [
    "### What is exception handling in Python?\n",
    "\n",
    "Exception handling in Python allows you to handle runtime errors using try, except, else, and finally blocks."
   ]
  },
  {
   "cell_type": "markdown",
   "id": "9c87011b",
   "metadata": {},
   "source": [
    "### What is the purpose of the finally block in exception handling?\n",
    "\n",
    "The finally block is used to define clean-up actions that must be executed under all circumstances, whether an exception is raised or not."
   ]
  },
  {
   "cell_type": "markdown",
   "id": "b5560aa8",
   "metadata": {},
   "source": [
    "### What is logging in Python?\n",
    "\n",
    "Logging is a module in Python used to track events that happen during the execution of a program. It helps in debugging and auditing."
   ]
  },
  {
   "cell_type": "markdown",
   "id": "44748924",
   "metadata": {},
   "source": [
    "### What is the significance of the __del__ method in Python?\n",
    "\n",
    "The __del__ method is a destructor method called when an object is about to be destroyed. It is used for clean-up actions."
   ]
  },
  {
   "cell_type": "markdown",
   "id": "715cc143",
   "metadata": {},
   "source": [
    "### What is the difference between import and from ... import in Python?\n",
    "\n",
    "`import` imports the entire module, while `from ... import` imports specific attributes or functions from a module."
   ]
  },
  {
   "cell_type": "markdown",
   "id": "dd23d98a",
   "metadata": {},
   "source": [
    "### How can you handle multiple exceptions in Python?\n",
    "\n",
    "You can handle multiple exceptions using multiple except blocks or a single except block with a tuple of exception types."
   ]
  },
  {
   "cell_type": "markdown",
   "id": "c4db02dc",
   "metadata": {},
   "source": [
    "### What is the purpose of the with statement when handling files in Python?\n",
    "\n",
    "The with statement ensures proper acquisition and release of resources, automatically closing the file after operations."
   ]
  },
  {
   "cell_type": "markdown",
   "id": "2daec6ae",
   "metadata": {},
   "source": [
    "### What is the difference between multithreading and multiprocessing?\n",
    "\n",
    "Multithreading runs multiple threads within the same process (shared memory), while multiprocessing runs multiple processes with separate memory spaces."
   ]
  },
  {
   "cell_type": "markdown",
   "id": "76c24492",
   "metadata": {},
   "source": [
    "### What are the advantages of using logging in a program?\n",
    "\n",
    "Logging helps monitor program execution, identify issues, and provides a historical record of events and errors."
   ]
  },
  {
   "cell_type": "markdown",
   "id": "aa346c5e",
   "metadata": {},
   "source": [
    "### What is memory management in Python?\n",
    "\n",
    "Memory management in Python involves allocating and deallocating memory automatically using a private heap and garbage collection."
   ]
  },
  {
   "cell_type": "markdown",
   "id": "a622c6ef",
   "metadata": {},
   "source": [
    "### What are the basic steps involved in exception handling in Python?\n",
    "\n",
    "Use try to write code that may raise an exception, except to handle the exception, else for code if no exception occurs, and finally for cleanup."
   ]
  },
  {
   "cell_type": "markdown",
   "id": "51f945cc",
   "metadata": {},
   "source": [
    "### Why is memory management important in Python?\n",
    "\n",
    "Efficient memory management prevents memory leaks and ensures optimal performance and resource utilization."
   ]
  },
  {
   "cell_type": "markdown",
   "id": "9bd340d7",
   "metadata": {},
   "source": [
    "### What is the role of try and except in exception handling?\n",
    "\n",
    "The try block contains code that may raise an exception, and the except block handles the exception if it occurs."
   ]
  },
  {
   "cell_type": "markdown",
   "id": "69eda0b0",
   "metadata": {},
   "source": [
    "### How does Python's garbage collection system work?\n",
    "\n",
    "Python uses reference counting and a cyclic garbage collector to automatically reclaim unused memory."
   ]
  },
  {
   "cell_type": "markdown",
   "id": "b6e19573",
   "metadata": {},
   "source": [
    "### What is the purpose of the else block in exception handling?\n",
    "\n",
    "The else block runs if no exception occurs in the try block. It is used for code that should execute only when no error happens."
   ]
  },
  {
   "cell_type": "markdown",
   "id": "eff53802",
   "metadata": {},
   "source": [
    "### What are the common logging levels in Python?\n",
    "\n",
    "Common logging levels include DEBUG, INFO, WARNING, ERROR, and CRITICAL."
   ]
  },
  {
   "cell_type": "markdown",
   "id": "b2162a7a",
   "metadata": {},
   "source": [
    "### What is the difference between os.fork() and multiprocessing in Python?\n",
    "\n",
    "`os.fork()` is Unix-specific and creates a new child process, while `multiprocessing` is a cross-platform module to create processes and manage communication."
   ]
  },
  {
   "cell_type": "markdown",
   "id": "1aae9cb1",
   "metadata": {},
   "source": [
    "### What is the importance of closing a file in Python?\n",
    "\n",
    "Closing a file frees up system resources and ensures all data is written properly to the file."
   ]
  },
  {
   "cell_type": "markdown",
   "id": "fa1516c2",
   "metadata": {},
   "source": [
    "### What is the difference between file.read() and file.readline() in Python?\n",
    "\n",
    "`file.read()` reads the entire file content, while `file.readline()` reads a single line at a time."
   ]
  },
  {
   "cell_type": "markdown",
   "id": "c2b51818",
   "metadata": {},
   "source": [
    "### What is the logging module in Python used for?\n",
    "\n",
    "The logging module is used to track events and errors in a program, providing a way to configure different log levels and output formats."
   ]
  },
  {
   "cell_type": "markdown",
   "id": "1eaa87db",
   "metadata": {},
   "source": [
    "### What is the os module in Python used for in file handling?\n",
    "\n",
    "The os module provides functions to interact with the operating system, like file creation, deletion, path manipulation, and directory management."
   ]
  },
  {
   "cell_type": "markdown",
   "id": "4ef41b3c",
   "metadata": {},
   "source": [
    "### What are the challenges associated with memory management in Python?\n",
    "\n",
    "Challenges include handling reference cycles, memory leaks due to lingering references, and managing memory in multi-threaded environments."
   ]
  },
  {
   "cell_type": "markdown",
   "id": "7dda1a32",
   "metadata": {},
   "source": [
    "### How do you raise an exception manually in Python?\n",
    "\n",
    "Use the `raise` keyword followed by the exception to be raised, e.g., `raise ValueError('Invalid value')`."
   ]
  },
  {
   "cell_type": "markdown",
   "id": "65c3b14d",
   "metadata": {},
   "source": [
    "### Why is it important to use multithreading in certain applications?\n",
    "\n",
    "Multithreading allows concurrent execution of tasks, improving performance in I/O-bound applications and enhancing responsiveness."
   ]
  },
  {
   "cell_type": "markdown",
   "id": "6f73f79f",
   "metadata": {},
   "source": [
    "# Practical Question"
   ]
  },
  {
   "cell_type": "markdown",
   "id": "f11dfb4f",
   "metadata": {},
   "source": [
    "### How can you open a file for writing in Python and write a string to it?\n",
    "```python\n",
    "with open(\"example.txt\", \"w\") as file:\n",
    "    file.write(\"Hello, this is a test string.\")\n",
    "```"
   ]
  },
  {
   "cell_type": "markdown",
   "id": "3114a89a",
   "metadata": {},
   "source": [
    "### Write a Python program to read the contents of a file and print each line\n",
    "```python\n",
    "with open(\"example.txt\", \"r\") as file:\n",
    "    for line in file:\n",
    "        print(line.strip())\n",
    "```"
   ]
  },
  {
   "cell_type": "markdown",
   "id": "79355e3f",
   "metadata": {},
   "source": [
    "### How would you handle a case where the file doesn't exist while trying to open it for reading?\n",
    "```python\n",
    "try:\n",
    "    with open(\"nonexistent.txt\", \"r\") as file:\n",
    "        print(file.read())\n",
    "except FileNotFoundError:\n",
    "    print(\"File not found.\")\n",
    "```"
   ]
  },
  {
   "cell_type": "markdown",
   "id": "8b08873b",
   "metadata": {},
   "source": [
    "### Write a Python script that reads from one file and writes its content to another file\n",
    "```python\n",
    "with open(\"source.txt\", \"r\") as src, open(\"destination.txt\", \"w\") as dest:\n",
    "    dest.write(src.read())\n",
    "```"
   ]
  },
  {
   "cell_type": "markdown",
   "id": "4618a3d4",
   "metadata": {},
   "source": [
    "### How would you catch and handle division by zero error in Python?\n",
    "```python\n",
    "try:\n",
    "    result = 10 / 0\n",
    "except ZeroDivisionError:\n",
    "    print(\"Cannot divide by zero.\")\n",
    "```"
   ]
  },
  {
   "cell_type": "markdown",
   "id": "76f4aeb8",
   "metadata": {},
   "source": [
    "### Write a Python program that logs an error message to a log file when a division by zero exception occurs\n",
    "```python\n",
    "import logging\n",
    "logging.basicConfig(filename=\"errors.log\", level=logging.ERROR)\n",
    "try:\n",
    "    x = 10 / 0\n",
    "except ZeroDivisionError as e:\n",
    "    logging.error(\"Division by zero error occurred: %s\", e)\n",
    "```"
   ]
  },
  {
   "cell_type": "markdown",
   "id": "5de2db1b",
   "metadata": {},
   "source": [
    "### How do you log information at different levels (INFO, ERROR, WARNING) in Python using the logging module?\n",
    "```python\n",
    "import logging\n",
    "logging.basicConfig(level=logging.DEBUG)\n",
    "logging.info(\"This is an info message.\")\n",
    "logging.warning(\"This is a warning.\")\n",
    "logging.error(\"This is an error.\")\n",
    "```"
   ]
  },
  {
   "cell_type": "markdown",
   "id": "179b3595",
   "metadata": {},
   "source": [
    "### Write a program to handle a file opening error using exception handling\n",
    "```python\n",
    "try:\n",
    "    with open(\"nofile.txt\", \"r\") as f:\n",
    "        print(f.read())\n",
    "except IOError:\n",
    "    print(\"An error occurred trying to read the file.\")\n",
    "```"
   ]
  },
  {
   "cell_type": "markdown",
   "id": "56ecd0f0",
   "metadata": {},
   "source": [
    "### How can you read a file line by line and store its content in a list in Python?\n",
    "```python\n",
    "with open(\"example.txt\", \"r\") as file:\n",
    "    lines = [line.strip() for line in file]\n",
    "print(lines)\n",
    "```"
   ]
  },
  {
   "cell_type": "markdown",
   "id": "7153a725",
   "metadata": {},
   "source": [
    "### How can you append data to an existing file in Python?\n",
    "```python\n",
    "with open(\"example.txt\", \"a\") as file:\n",
    "    file.write(\"\\nAppended line.\")\n",
    "```"
   ]
  },
  {
   "cell_type": "markdown",
   "id": "a852391c",
   "metadata": {},
   "source": [
    "### Write a Python program that uses a try-except block to handle an error when attempting to access a dictionary key that doesn't exist\n",
    "```python\n",
    "data = {\"name\": \"Alice\"}\n",
    "try:\n",
    "    print(data[\"age\"])\n",
    "except KeyError:\n",
    "    print(\"Key does not exist.\")\n",
    "```"
   ]
  },
  {
   "cell_type": "markdown",
   "id": "6b1019e2",
   "metadata": {},
   "source": [
    "### Write a program that demonstrates using multiple except blocks to handle different types of exceptions\n",
    "```python\n",
    "try:\n",
    "    x = int(\"abc\")\n",
    "    y = 10 / 0\n",
    "except ValueError:\n",
    "    print(\"Value error occurred.\")\n",
    "except ZeroDivisionError:\n",
    "    print(\"Division by zero occurred.\")\n",
    "```"
   ]
  },
  {
   "cell_type": "markdown",
   "id": "d720345c",
   "metadata": {},
   "source": [
    "### How would you check if a file exists before attempting to read it in Python?\n",
    "```python\n",
    "import os\n",
    "if os.path.exists(\"example.txt\"):\n",
    "    with open(\"example.txt\") as file:\n",
    "        print(file.read())\n",
    "else:\n",
    "    print(\"File does not exist.\")\n",
    "```"
   ]
  },
  {
   "cell_type": "markdown",
   "id": "e0d03e2c",
   "metadata": {},
   "source": [
    "### Write a program that uses the logging module to log both informational and error messages\n",
    "```python\n",
    "import logging\n",
    "logging.basicConfig(filename=\"app.log\", level=logging.DEBUG)\n",
    "logging.info(\"Starting the program.\")\n",
    "try:\n",
    "    1 / 0\n",
    "except ZeroDivisionError:\n",
    "    logging.error(\"Tried to divide by zero.\")\n",
    "```"
   ]
  },
  {
   "cell_type": "markdown",
   "id": "875ce178",
   "metadata": {},
   "source": [
    "### Write a Python program that prints the content of a file and handles the case when the file is empty\n",
    "```python\n",
    "with open(\"example.txt\", \"r\") as file:\n",
    "    content = file.read()\n",
    "    if not content:\n",
    "        print(\"File is empty.\")\n",
    "    else:\n",
    "        print(content)\n",
    "```"
   ]
  },
  {
   "cell_type": "markdown",
   "id": "1497ba57",
   "metadata": {},
   "source": [
    "### Demonstrate how to use memory profiling to check the memory usage of a small program\n",
    "```python\n",
    "from memory_profiler import profile\n",
    "\n",
    "@profile\n",
    "def my_func():\n",
    "    a = [i for i in range(10000)]\n",
    "    return a\n",
    "\n",
    "my_func()\n",
    "```"
   ]
  },
  {
   "cell_type": "markdown",
   "id": "216302db",
   "metadata": {},
   "source": [
    "### Write a Python program to create and write a list of numbers to a file, one number per line\n",
    "```python\n",
    "numbers = list(range(1, 11))\n",
    "with open(\"numbers.txt\", \"w\") as f:\n",
    "    for num in numbers:\n",
    "        f.write(f\"{num}\\n\")\n",
    "```"
   ]
  },
  {
   "cell_type": "markdown",
   "id": "b0eecc45",
   "metadata": {},
   "source": [
    "### How would you implement a basic logging setup that logs to a file with rotation after 1MB?\n",
    "```python\n",
    "import logging\n",
    "from logging.handlers import RotatingFileHandler\n",
    "\n",
    "handler = RotatingFileHandler(\"rotate.log\", maxBytes=1048576, backupCount=3)\n",
    "logging.basicConfig(handlers=[handler], level=logging.INFO)\n",
    "logging.info(\"This is a test log message.\")\n",
    "```"
   ]
  },
  {
   "cell_type": "markdown",
   "id": "0b7781ab",
   "metadata": {},
   "source": [
    "### Write a program that handles both IndexError and KeyError using a try-except block\n",
    "```python\n",
    "my_list = [1, 2, 3]\n",
    "my_dict = {\"a\": 1}\n",
    "try:\n",
    "    print(my_list[5])\n",
    "    print(my_dict[\"b\"])\n",
    "except IndexError:\n",
    "    print(\"List index out of range.\")\n",
    "except KeyError:\n",
    "    print(\"Dictionary key not found.\")\n",
    "```"
   ]
  },
  {
   "cell_type": "markdown",
   "id": "02d91ee1",
   "metadata": {},
   "source": [
    "### How would you open a file and read its contents using a context manager in Python?\n",
    "```python\n",
    "with open(\"example.txt\", \"r\") as file:\n",
    "    print(file.read())\n",
    "```"
   ]
  },
  {
   "cell_type": "markdown",
   "id": "66a4fc97",
   "metadata": {},
   "source": [
    "### Write a Python program that reads a file and prints the number of occurrences of a specific word\n",
    "```python\n",
    "word_to_count = \"python\"\n",
    "with open(\"example.txt\", \"r\") as file:\n",
    "    content = file.read().lower()\n",
    "    print(content.count(word_to_count))\n",
    "```"
   ]
  },
  {
   "cell_type": "markdown",
   "id": "51ea6b22",
   "metadata": {},
   "source": [
    "### How can you check if a file is empty before attempting to read its contents?\n",
    "```python\n",
    "import os\n",
    "if os.path.getsize(\"example.txt\") == 0:\n",
    "    print(\"File is empty.\")\n",
    "else:\n",
    "    with open(\"example.txt\", \"r\") as file:\n",
    "        print(file.read())\n",
    "```"
   ]
  },
  {
   "cell_type": "markdown",
   "id": "c40ac2a5",
   "metadata": {},
   "source": [
    "### Write a Python program that writes to a log file when an error occurs during file handling.\n",
    "```python\n",
    "import logging\n",
    "logging.basicConfig(filename=\"file_errors.log\", level=logging.ERROR)\n",
    "try:\n",
    "    with open(\"nofile.txt\", \"r\") as file:\n",
    "        print(file.read())\n",
    "except Exception as e:\n",
    "    logging.error(\"Error occurred: %s\", e)\n",
    "```"
   ]
  }
 ],
 "metadata": {
  "kernelspec": {
   "display_name": "Python 3",
   "language": "python",
   "name": "python3"
  },
  "language_info": {
   "codemirror_mode": {
    "name": "ipython",
    "version": 3
   },
   "file_extension": ".py",
   "mimetype": "text/x-python",
   "name": "python",
   "nbconvert_exporter": "python",
   "pygments_lexer": "ipython3",
   "version": "3.7.6"
  }
 },
 "nbformat": 4,
 "nbformat_minor": 5
}
